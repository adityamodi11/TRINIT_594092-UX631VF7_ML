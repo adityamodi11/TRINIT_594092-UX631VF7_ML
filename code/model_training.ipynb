{
 "cells": [
  {
   "cell_type": "markdown",
   "metadata": {
    "id": "GDkIUF2QzJhK"
   },
   "source": [
    "# Importing all dependencies"
   ]
  },
  {
   "cell_type": "code",
   "execution_count": 1,
   "metadata": {
    "id": "vrn1V_jY1DtK"
   },
   "outputs": [],
   "source": [
    "import pandas as pd\n",
    "import numpy as np\n",
    "import matplotlib.pyplot as plt\n",
    "import tensorflow as tf\n",
    "from keras.models import load_model\n",
    "import joblib\n",
    "import pickle"
   ]
  },
  {
   "cell_type": "code",
   "execution_count": 2,
   "metadata": {
    "colab": {
     "base_uri": "https://localhost:8080/",
     "height": 36
    },
    "id": "LrFYWrmHO_7d",
    "outputId": "cc260766-e138-4a9c-caa2-b667e0d8389e"
   },
   "outputs": [
    {
     "data": {
      "text/plain": [
       "'2.8.0'"
      ]
     },
     "execution_count": 2,
     "metadata": {},
     "output_type": "execute_result"
    }
   ],
   "source": [
    "tf.__version__"
   ]
  },
  {
   "cell_type": "markdown",
   "metadata": {
    "id": "GdFl3G4RQwyy"
   },
   "source": [
    "# Loading Dataset"
   ]
  },
  {
   "cell_type": "code",
   "execution_count": 12,
   "metadata": {
    "id": "9Zdxzmxy1Z2X"
   },
   "outputs": [],
   "source": [
    "dataset=pd.read_csv(r'C:\\Users\\Owner\\Tri Nit\\crop_recommendation.csv')\n",
    "dataset = dataset.drop(columns='humidity') "
   ]
  },
  {
   "cell_type": "code",
   "execution_count": 13,
   "metadata": {
    "colab": {
     "base_uri": "https://localhost:8080/",
     "height": 423
    },
    "id": "Il12z_mfs32i",
    "outputId": "5569d940-8b29-4776-a79e-69906b9ed674"
   },
   "outputs": [
    {
     "data": {
      "text/html": [
       "<div>\n",
       "<style scoped>\n",
       "    .dataframe tbody tr th:only-of-type {\n",
       "        vertical-align: middle;\n",
       "    }\n",
       "\n",
       "    .dataframe tbody tr th {\n",
       "        vertical-align: top;\n",
       "    }\n",
       "\n",
       "    .dataframe thead th {\n",
       "        text-align: right;\n",
       "    }\n",
       "</style>\n",
       "<table border=\"1\" class=\"dataframe\">\n",
       "  <thead>\n",
       "    <tr style=\"text-align: right;\">\n",
       "      <th></th>\n",
       "      <th>N</th>\n",
       "      <th>P</th>\n",
       "      <th>K</th>\n",
       "      <th>temperature</th>\n",
       "      <th>ph</th>\n",
       "      <th>rainfall</th>\n",
       "      <th>label</th>\n",
       "    </tr>\n",
       "  </thead>\n",
       "  <tbody>\n",
       "    <tr>\n",
       "      <th>0</th>\n",
       "      <td>90</td>\n",
       "      <td>42</td>\n",
       "      <td>43</td>\n",
       "      <td>20.879744</td>\n",
       "      <td>6.502985</td>\n",
       "      <td>202.935536</td>\n",
       "      <td>rice</td>\n",
       "    </tr>\n",
       "    <tr>\n",
       "      <th>1</th>\n",
       "      <td>85</td>\n",
       "      <td>58</td>\n",
       "      <td>41</td>\n",
       "      <td>21.770462</td>\n",
       "      <td>7.038096</td>\n",
       "      <td>226.655537</td>\n",
       "      <td>rice</td>\n",
       "    </tr>\n",
       "    <tr>\n",
       "      <th>2</th>\n",
       "      <td>60</td>\n",
       "      <td>55</td>\n",
       "      <td>44</td>\n",
       "      <td>23.004459</td>\n",
       "      <td>7.840207</td>\n",
       "      <td>263.964248</td>\n",
       "      <td>rice</td>\n",
       "    </tr>\n",
       "    <tr>\n",
       "      <th>3</th>\n",
       "      <td>74</td>\n",
       "      <td>35</td>\n",
       "      <td>40</td>\n",
       "      <td>26.491096</td>\n",
       "      <td>6.980401</td>\n",
       "      <td>242.864034</td>\n",
       "      <td>rice</td>\n",
       "    </tr>\n",
       "    <tr>\n",
       "      <th>4</th>\n",
       "      <td>78</td>\n",
       "      <td>42</td>\n",
       "      <td>42</td>\n",
       "      <td>20.130175</td>\n",
       "      <td>7.628473</td>\n",
       "      <td>262.717340</td>\n",
       "      <td>rice</td>\n",
       "    </tr>\n",
       "    <tr>\n",
       "      <th>...</th>\n",
       "      <td>...</td>\n",
       "      <td>...</td>\n",
       "      <td>...</td>\n",
       "      <td>...</td>\n",
       "      <td>...</td>\n",
       "      <td>...</td>\n",
       "      <td>...</td>\n",
       "    </tr>\n",
       "    <tr>\n",
       "      <th>2195</th>\n",
       "      <td>107</td>\n",
       "      <td>34</td>\n",
       "      <td>32</td>\n",
       "      <td>26.774637</td>\n",
       "      <td>6.780064</td>\n",
       "      <td>177.774507</td>\n",
       "      <td>coffee</td>\n",
       "    </tr>\n",
       "    <tr>\n",
       "      <th>2196</th>\n",
       "      <td>99</td>\n",
       "      <td>15</td>\n",
       "      <td>27</td>\n",
       "      <td>27.417112</td>\n",
       "      <td>6.086922</td>\n",
       "      <td>127.924610</td>\n",
       "      <td>coffee</td>\n",
       "    </tr>\n",
       "    <tr>\n",
       "      <th>2197</th>\n",
       "      <td>118</td>\n",
       "      <td>33</td>\n",
       "      <td>30</td>\n",
       "      <td>24.131797</td>\n",
       "      <td>6.362608</td>\n",
       "      <td>173.322839</td>\n",
       "      <td>coffee</td>\n",
       "    </tr>\n",
       "    <tr>\n",
       "      <th>2198</th>\n",
       "      <td>117</td>\n",
       "      <td>32</td>\n",
       "      <td>34</td>\n",
       "      <td>26.272418</td>\n",
       "      <td>6.758793</td>\n",
       "      <td>127.175293</td>\n",
       "      <td>coffee</td>\n",
       "    </tr>\n",
       "    <tr>\n",
       "      <th>2199</th>\n",
       "      <td>104</td>\n",
       "      <td>18</td>\n",
       "      <td>30</td>\n",
       "      <td>23.603016</td>\n",
       "      <td>6.779833</td>\n",
       "      <td>140.937041</td>\n",
       "      <td>coffee</td>\n",
       "    </tr>\n",
       "  </tbody>\n",
       "</table>\n",
       "<p>2200 rows × 7 columns</p>\n",
       "</div>"
      ],
      "text/plain": [
       "        N   P   K  temperature        ph    rainfall   label\n",
       "0      90  42  43    20.879744  6.502985  202.935536    rice\n",
       "1      85  58  41    21.770462  7.038096  226.655537    rice\n",
       "2      60  55  44    23.004459  7.840207  263.964248    rice\n",
       "3      74  35  40    26.491096  6.980401  242.864034    rice\n",
       "4      78  42  42    20.130175  7.628473  262.717340    rice\n",
       "...   ...  ..  ..          ...       ...         ...     ...\n",
       "2195  107  34  32    26.774637  6.780064  177.774507  coffee\n",
       "2196   99  15  27    27.417112  6.086922  127.924610  coffee\n",
       "2197  118  33  30    24.131797  6.362608  173.322839  coffee\n",
       "2198  117  32  34    26.272418  6.758793  127.175293  coffee\n",
       "2199  104  18  30    23.603016  6.779833  140.937041  coffee\n",
       "\n",
       "[2200 rows x 7 columns]"
      ]
     },
     "execution_count": 13,
     "metadata": {},
     "output_type": "execute_result"
    }
   ],
   "source": [
    "dataset"
   ]
  },
  {
   "cell_type": "code",
   "execution_count": 14,
   "metadata": {
    "id": "25Xl91io185T"
   },
   "outputs": [],
   "source": [
    "x=dataset.iloc[:, :-1].values\n"
   ]
  },
  {
   "cell_type": "code",
   "execution_count": 15,
   "metadata": {
    "colab": {
     "base_uri": "https://localhost:8080/"
    },
    "id": "LPY_WOG7RrAj",
    "outputId": "2872299c-3a89-4ea7-c11a-da0680e0a568"
   },
   "outputs": [
    {
     "name": "stdout",
     "output_type": "stream",
     "text": [
      "[[ 90.          42.          43.          20.87974371   6.50298529\n",
      "  202.9355362 ]\n",
      " [ 85.          58.          41.          21.77046169   7.03809636\n",
      "  226.6555374 ]\n",
      " [ 60.          55.          44.          23.00445915   7.84020714\n",
      "  263.9642476 ]\n",
      " ...\n",
      " [118.          33.          30.          24.13179691   6.36260785\n",
      "  173.3228386 ]\n",
      " [117.          32.          34.          26.2724184    6.75879255\n",
      "  127.1752928 ]\n",
      " [104.          18.          30.          23.60301571   6.77983261\n",
      "  140.9370415 ]]\n"
     ]
    }
   ],
   "source": [
    "print(x)"
   ]
  },
  {
   "cell_type": "code",
   "execution_count": 16,
   "metadata": {
    "id": "VHCy5vvN19oq"
   },
   "outputs": [],
   "source": [
    "y=dataset.iloc[:, -1].values\n",
    "y = y.reshape(-1, 1)"
   ]
  },
  {
   "cell_type": "code",
   "execution_count": 17,
   "metadata": {
    "colab": {
     "base_uri": "https://localhost:8080/"
    },
    "id": "sKjeCfqYUr4b",
    "outputId": "daf0a62b-dff6-4c67-ca92-a66205ece32b"
   },
   "outputs": [
    {
     "name": "stdout",
     "output_type": "stream",
     "text": [
      "[['rice']\n",
      " ['rice']\n",
      " ['rice']\n",
      " ...\n",
      " ['coffee']\n",
      " ['coffee']\n",
      " ['coffee']]\n"
     ]
    }
   ],
   "source": [
    "print(y)"
   ]
  },
  {
   "cell_type": "markdown",
   "metadata": {
    "id": "-loLL67gQ8bW"
   },
   "source": [
    "# Crop Prediction Using ANN Model\n",
    "\n"
   ]
  },
  {
   "cell_type": "code",
   "execution_count": 18,
   "metadata": {
    "id": "njyvwrNvi5R_"
   },
   "outputs": [],
   "source": [
    "from sklearn.model_selection import train_test_split\n",
    "x_train, x_test, y_train, y_test = train_test_split(x,y, test_size = 0.2, random_state = 0)"
   ]
  },
  {
   "cell_type": "code",
   "execution_count": 19,
   "metadata": {
    "id": "zG4WqjJDVW2g"
   },
   "outputs": [],
   "source": [
    "from sklearn.preprocessing import OneHotEncoder\n",
    "\n",
    "encoder = OneHotEncoder(sparse=False, handle_unknown='ignore').fit(y_train)\n",
    "y_train = encoder.transform(y_train)\n",
    "y_test = encoder.transform(y_test)"
   ]
  },
  {
   "cell_type": "code",
   "execution_count": 20,
   "metadata": {
    "id": "79jfSVPCB-ND"
   },
   "outputs": [],
   "source": [
    "list_of_crops = list(encoder.categories_)"
   ]
  },
  {
   "cell_type": "code",
   "execution_count": 21,
   "metadata": {
    "id": "K4ESa1EgYg2P"
   },
   "outputs": [],
   "source": [
    "from sklearn.preprocessing import StandardScaler\n",
    "sc=StandardScaler().fit(x_train)\n",
    "x_train = sc.transform(x_train)\n",
    "x_test = sc.transform(x_test)"
   ]
  },
  {
   "cell_type": "code",
   "execution_count": 22,
   "metadata": {
    "colab": {
     "base_uri": "https://localhost:8080/"
    },
    "id": "FVyQWPXK47W5",
    "outputId": "9c89596b-c2f5-42c4-c6c7-6f9f5df1426e"
   },
   "outputs": [
    {
     "name": "stdout",
     "output_type": "stream",
     "text": [
      "[[-0.64463185  2.00512125  2.96466347 -0.81644358 -0.4785779   0.23692732]\n",
      " [ 0.81334894 -0.52889759 -0.2035231  -0.35345966 -0.18240887  0.84590226]\n",
      " [ 1.05634574  0.1649409  -0.26219322 -0.25621148  0.82415091  1.29625399]\n",
      " ...\n",
      " [-0.42863469  0.31577536 -0.65332736  0.58919451  0.03555503 -0.61777686]\n",
      " [-0.32063612  0.34594225 -0.4968737  -0.01933801  1.59909782 -1.13413007]\n",
      " [-0.99562722 -0.95123406 -0.7706676  -1.65789642  0.09231399  0.1609325 ]]\n"
     ]
    }
   ],
   "source": [
    "print(x_train)"
   ]
  },
  {
   "cell_type": "code",
   "execution_count": 23,
   "metadata": {
    "colab": {
     "base_uri": "https://localhost:8080/"
    },
    "id": "NOhYvPu473F3",
    "outputId": "6ca294e6-dd01-4519-9820-343131335063"
   },
   "outputs": [
    {
     "name": "stdout",
     "output_type": "stream",
     "text": [
      "[[ 1.4613404  -1.19256918  0.03115739  0.13686485 -0.07136897 -0.79662206]\n",
      " [ 1.08334538 -1.25290297 -0.04706944 -0.17748811 -0.17040403 -1.00213923]\n",
      " [-0.99562722  2.03528814  3.02333359 -3.16429901 -0.41466753 -0.52833787]\n",
      " ...\n",
      " [ 1.78533613  0.07444023 -0.65332736  0.09232143  1.18019647 -0.26283457]\n",
      " [-0.64463185  0.31577536 -0.53598712  1.4635514   1.41166076 -0.54269489]\n",
      " [-0.53663327  2.30679015  2.92555005 -0.7466762  -1.21088837  0.29771091]]\n"
     ]
    }
   ],
   "source": [
    "print(x_test)"
   ]
  },
  {
   "cell_type": "code",
   "execution_count": 24,
   "metadata": {
    "colab": {
     "base_uri": "https://localhost:8080/"
    },
    "id": "R2N9uAzkp6_z",
    "outputId": "c34a5fcf-8abe-4401-f13c-b7bb691ce387"
   },
   "outputs": [
    {
     "data": {
      "text/plain": [
       "(1760, 6)"
      ]
     },
     "execution_count": 24,
     "metadata": {},
     "output_type": "execute_result"
    }
   ],
   "source": [
    "x_train.shape\n"
   ]
  },
  {
   "cell_type": "code",
   "execution_count": 25,
   "metadata": {
    "colab": {
     "base_uri": "https://localhost:8080/"
    },
    "id": "b0SZ_l6sqCsb",
    "outputId": "5fecb3d7-c206-4304-e34e-7981cecf6bb3"
   },
   "outputs": [
    {
     "data": {
      "text/plain": [
       "(1760, 22)"
      ]
     },
     "execution_count": 25,
     "metadata": {},
     "output_type": "execute_result"
    }
   ],
   "source": [
    "y_train.shape"
   ]
  },
  {
   "cell_type": "code",
   "execution_count": 26,
   "metadata": {
    "id": "qmY0eVUo760V"
   },
   "outputs": [],
   "source": [
    "ann = tf.keras.models.Sequential()"
   ]
  },
  {
   "cell_type": "code",
   "execution_count": 27,
   "metadata": {
    "id": "xfof-gVNZCMS"
   },
   "outputs": [],
   "source": [
    "ann.add(tf.keras.layers.Dense(units=32, activation = 'relu'))"
   ]
  },
  {
   "cell_type": "code",
   "execution_count": 28,
   "metadata": {
    "id": "RuI7-c3dZfk0"
   },
   "outputs": [],
   "source": [
    "ann.add(tf.keras.layers.Dense(units=128, activation = 'relu'))"
   ]
  },
  {
   "cell_type": "code",
   "execution_count": 29,
   "metadata": {
    "id": "F9avHuxuZqha"
   },
   "outputs": [],
   "source": [
    "ann.add(tf.keras.layers.Dense(units = 22, activation = 'softmax'))"
   ]
  },
  {
   "cell_type": "code",
   "execution_count": 30,
   "metadata": {
    "id": "GVjN862Uaf49"
   },
   "outputs": [],
   "source": [
    "ann.compile(optimizer = 'adam', loss='categorical_crossentropy', metrics=['accuracy'])"
   ]
  },
  {
   "cell_type": "code",
   "execution_count": 31,
   "metadata": {
    "colab": {
     "base_uri": "https://localhost:8080/"
    },
    "id": "rwd39ArOa0dT",
    "outputId": "8841a19b-3c95-48b0-9cfa-f371592c8d87"
   },
   "outputs": [
    {
     "name": "stdout",
     "output_type": "stream",
     "text": [
      "Epoch 1/100\n",
      "55/55 [==============================] - 0s 1ms/step - loss: 2.6992 - accuracy: 0.3517\n",
      "Epoch 2/100\n",
      "55/55 [==============================] - 0s 1ms/step - loss: 1.7216 - accuracy: 0.6267\n",
      "Epoch 3/100\n",
      "55/55 [==============================] - 0s 1ms/step - loss: 0.9932 - accuracy: 0.7835\n",
      "Epoch 4/100\n",
      "55/55 [==============================] - 0s 1ms/step - loss: 0.6510 - accuracy: 0.8528\n",
      "Epoch 5/100\n",
      "55/55 [==============================] - 0s 1ms/step - loss: 0.4929 - accuracy: 0.8824\n",
      "Epoch 6/100\n",
      "55/55 [==============================] - 0s 1ms/step - loss: 0.4063 - accuracy: 0.8909\n",
      "Epoch 7/100\n",
      "55/55 [==============================] - 0s 1ms/step - loss: 0.3483 - accuracy: 0.9136\n",
      "Epoch 8/100\n",
      "55/55 [==============================] - 0s 1ms/step - loss: 0.3042 - accuracy: 0.9148\n",
      "Epoch 9/100\n",
      "55/55 [==============================] - 0s 1ms/step - loss: 0.2752 - accuracy: 0.9182\n",
      "Epoch 10/100\n",
      "55/55 [==============================] - 0s 1ms/step - loss: 0.2482 - accuracy: 0.9324\n",
      "Epoch 11/100\n",
      "55/55 [==============================] - 0s 1ms/step - loss: 0.2294 - accuracy: 0.9347\n",
      "Epoch 12/100\n",
      "55/55 [==============================] - 0s 1ms/step - loss: 0.2127 - accuracy: 0.9375\n",
      "Epoch 13/100\n",
      "55/55 [==============================] - 0s 1ms/step - loss: 0.2017 - accuracy: 0.9381\n",
      "Epoch 14/100\n",
      "55/55 [==============================] - 0s 1ms/step - loss: 0.1876 - accuracy: 0.9347\n",
      "Epoch 15/100\n",
      "55/55 [==============================] - 0s 1ms/step - loss: 0.1752 - accuracy: 0.9432\n",
      "Epoch 16/100\n",
      "55/55 [==============================] - 0s 1ms/step - loss: 0.1672 - accuracy: 0.9466\n",
      "Epoch 17/100\n",
      "55/55 [==============================] - 0s 1ms/step - loss: 0.1610 - accuracy: 0.9455\n",
      "Epoch 18/100\n",
      "55/55 [==============================] - 0s 1ms/step - loss: 0.1522 - accuracy: 0.9528\n",
      "Epoch 19/100\n",
      "55/55 [==============================] - 0s 1ms/step - loss: 0.1464 - accuracy: 0.9540\n",
      "Epoch 20/100\n",
      "55/55 [==============================] - 0s 1ms/step - loss: 0.1442 - accuracy: 0.9523\n",
      "Epoch 21/100\n",
      "55/55 [==============================] - 0s 1ms/step - loss: 0.1345 - accuracy: 0.9568\n",
      "Epoch 22/100\n",
      "55/55 [==============================] - 0s 1ms/step - loss: 0.1311 - accuracy: 0.9597\n",
      "Epoch 23/100\n",
      "55/55 [==============================] - 0s 1ms/step - loss: 0.1275 - accuracy: 0.9608\n",
      "Epoch 24/100\n",
      "55/55 [==============================] - 0s 1ms/step - loss: 0.1201 - accuracy: 0.9585\n",
      "Epoch 25/100\n",
      "55/55 [==============================] - 0s 1ms/step - loss: 0.1211 - accuracy: 0.9602\n",
      "Epoch 26/100\n",
      "55/55 [==============================] - 0s 1ms/step - loss: 0.1164 - accuracy: 0.9636\n",
      "Epoch 27/100\n",
      "55/55 [==============================] - 0s 1ms/step - loss: 0.1148 - accuracy: 0.9636\n",
      "Epoch 28/100\n",
      "55/55 [==============================] - 0s 1ms/step - loss: 0.1100 - accuracy: 0.9653\n",
      "Epoch 29/100\n",
      "55/55 [==============================] - 0s 1ms/step - loss: 0.1073 - accuracy: 0.9636\n",
      "Epoch 30/100\n",
      "55/55 [==============================] - 0s 1ms/step - loss: 0.1067 - accuracy: 0.9636\n",
      "Epoch 31/100\n",
      "55/55 [==============================] - 0s 1ms/step - loss: 0.1003 - accuracy: 0.9648\n",
      "Epoch 32/100\n",
      "55/55 [==============================] - 0s 1ms/step - loss: 0.1012 - accuracy: 0.9670\n",
      "Epoch 33/100\n",
      "55/55 [==============================] - 0s 1ms/step - loss: 0.0967 - accuracy: 0.9705\n",
      "Epoch 34/100\n",
      "55/55 [==============================] - 0s 2ms/step - loss: 0.0958 - accuracy: 0.9676\n",
      "Epoch 35/100\n",
      "55/55 [==============================] - 0s 1ms/step - loss: 0.0942 - accuracy: 0.9653\n",
      "Epoch 36/100\n",
      "55/55 [==============================] - 0s 1ms/step - loss: 0.0925 - accuracy: 0.9750\n",
      "Epoch 37/100\n",
      "55/55 [==============================] - 0s 1ms/step - loss: 0.0894 - accuracy: 0.9722\n",
      "Epoch 38/100\n",
      "55/55 [==============================] - 0s 1ms/step - loss: 0.0883 - accuracy: 0.9693\n",
      "Epoch 39/100\n",
      "55/55 [==============================] - 0s 1ms/step - loss: 0.0906 - accuracy: 0.9699\n",
      "Epoch 40/100\n",
      "55/55 [==============================] - 0s 1ms/step - loss: 0.0854 - accuracy: 0.9710\n",
      "Epoch 41/100\n",
      "55/55 [==============================] - 0s 1ms/step - loss: 0.0817 - accuracy: 0.9699\n",
      "Epoch 42/100\n",
      "55/55 [==============================] - 0s 1ms/step - loss: 0.0891 - accuracy: 0.9699\n",
      "Epoch 43/100\n",
      "55/55 [==============================] - 0s 1ms/step - loss: 0.0824 - accuracy: 0.9705\n",
      "Epoch 44/100\n",
      "55/55 [==============================] - 0s 1ms/step - loss: 0.0822 - accuracy: 0.9744\n",
      "Epoch 45/100\n",
      "55/55 [==============================] - 0s 1ms/step - loss: 0.0762 - accuracy: 0.9744\n",
      "Epoch 46/100\n",
      "55/55 [==============================] - 0s 1ms/step - loss: 0.0794 - accuracy: 0.9739\n",
      "Epoch 47/100\n",
      "55/55 [==============================] - 0s 1ms/step - loss: 0.0762 - accuracy: 0.9739\n",
      "Epoch 48/100\n",
      "55/55 [==============================] - 0s 1ms/step - loss: 0.0755 - accuracy: 0.9705\n",
      "Epoch 49/100\n",
      "55/55 [==============================] - 0s 2ms/step - loss: 0.0738 - accuracy: 0.9756\n",
      "Epoch 50/100\n",
      "55/55 [==============================] - 0s 2ms/step - loss: 0.0721 - accuracy: 0.9773\n",
      "Epoch 51/100\n",
      "55/55 [==============================] - 0s 2ms/step - loss: 0.0762 - accuracy: 0.9716\n",
      "Epoch 52/100\n",
      "55/55 [==============================] - 0s 2ms/step - loss: 0.0674 - accuracy: 0.9767\n",
      "Epoch 53/100\n",
      "55/55 [==============================] - 0s 1ms/step - loss: 0.0701 - accuracy: 0.9767\n",
      "Epoch 54/100\n",
      "55/55 [==============================] - 0s 1ms/step - loss: 0.0708 - accuracy: 0.9744\n",
      "Epoch 55/100\n",
      "55/55 [==============================] - 0s 1ms/step - loss: 0.0688 - accuracy: 0.9767\n",
      "Epoch 56/100\n",
      "55/55 [==============================] - 0s 1ms/step - loss: 0.0689 - accuracy: 0.9750\n",
      "Epoch 57/100\n",
      "55/55 [==============================] - 0s 1ms/step - loss: 0.0632 - accuracy: 0.9795\n",
      "Epoch 58/100\n",
      "55/55 [==============================] - 0s 1ms/step - loss: 0.0650 - accuracy: 0.9784\n",
      "Epoch 59/100\n",
      "55/55 [==============================] - 0s 1ms/step - loss: 0.0635 - accuracy: 0.9767\n",
      "Epoch 60/100\n",
      "55/55 [==============================] - 0s 1ms/step - loss: 0.0607 - accuracy: 0.9795\n",
      "Epoch 61/100\n",
      "55/55 [==============================] - 0s 1ms/step - loss: 0.0611 - accuracy: 0.9778\n",
      "Epoch 62/100\n",
      "55/55 [==============================] - 0s 1ms/step - loss: 0.0630 - accuracy: 0.9790\n",
      "Epoch 63/100\n",
      "55/55 [==============================] - 0s 2ms/step - loss: 0.0602 - accuracy: 0.9790\n",
      "Epoch 64/100\n",
      "55/55 [==============================] - 0s 1ms/step - loss: 0.0581 - accuracy: 0.9790\n",
      "Epoch 65/100\n",
      "55/55 [==============================] - 0s 1ms/step - loss: 0.0613 - accuracy: 0.9750\n",
      "Epoch 66/100\n",
      "55/55 [==============================] - 0s 1ms/step - loss: 0.0625 - accuracy: 0.9767\n",
      "Epoch 67/100\n",
      "55/55 [==============================] - 0s 1ms/step - loss: 0.0623 - accuracy: 0.9784\n",
      "Epoch 68/100\n",
      "55/55 [==============================] - 0s 1ms/step - loss: 0.0575 - accuracy: 0.9824\n",
      "Epoch 69/100\n",
      "55/55 [==============================] - 0s 1ms/step - loss: 0.0600 - accuracy: 0.9784\n",
      "Epoch 70/100\n",
      "55/55 [==============================] - 0s 1ms/step - loss: 0.0544 - accuracy: 0.9812\n",
      "Epoch 71/100\n",
      "55/55 [==============================] - 0s 1ms/step - loss: 0.0601 - accuracy: 0.9767\n",
      "Epoch 72/100\n",
      "55/55 [==============================] - 0s 1ms/step - loss: 0.0606 - accuracy: 0.9778\n",
      "Epoch 73/100\n",
      "55/55 [==============================] - 0s 1ms/step - loss: 0.0593 - accuracy: 0.9795\n",
      "Epoch 74/100\n",
      "55/55 [==============================] - 0s 1ms/step - loss: 0.0544 - accuracy: 0.9778\n",
      "Epoch 75/100\n",
      "55/55 [==============================] - 0s 1ms/step - loss: 0.0512 - accuracy: 0.9835\n",
      "Epoch 76/100\n",
      "55/55 [==============================] - 0s 1ms/step - loss: 0.0550 - accuracy: 0.9778\n",
      "Epoch 77/100\n",
      "55/55 [==============================] - 0s 1ms/step - loss: 0.0508 - accuracy: 0.9818\n",
      "Epoch 78/100\n",
      "55/55 [==============================] - 0s 1ms/step - loss: 0.0541 - accuracy: 0.9818\n",
      "Epoch 79/100\n",
      "55/55 [==============================] - 0s 1ms/step - loss: 0.0511 - accuracy: 0.9812\n",
      "Epoch 80/100\n",
      "55/55 [==============================] - 0s 1ms/step - loss: 0.0536 - accuracy: 0.9795\n",
      "Epoch 81/100\n",
      "55/55 [==============================] - 0s 1ms/step - loss: 0.0542 - accuracy: 0.9790\n",
      "Epoch 82/100\n",
      "55/55 [==============================] - 0s 1ms/step - loss: 0.0494 - accuracy: 0.9841\n",
      "Epoch 83/100\n"
     ]
    },
    {
     "name": "stdout",
     "output_type": "stream",
     "text": [
      "55/55 [==============================] - 0s 1ms/step - loss: 0.0493 - accuracy: 0.9812\n",
      "Epoch 84/100\n",
      "55/55 [==============================] - 0s 1ms/step - loss: 0.0514 - accuracy: 0.9790\n",
      "Epoch 85/100\n",
      "55/55 [==============================] - 0s 1ms/step - loss: 0.0463 - accuracy: 0.9852\n",
      "Epoch 86/100\n",
      "55/55 [==============================] - 0s 1ms/step - loss: 0.0517 - accuracy: 0.9812\n",
      "Epoch 87/100\n",
      "55/55 [==============================] - 0s 1ms/step - loss: 0.0476 - accuracy: 0.9824\n",
      "Epoch 88/100\n",
      "55/55 [==============================] - 0s 1ms/step - loss: 0.0478 - accuracy: 0.9824\n",
      "Epoch 89/100\n",
      "55/55 [==============================] - 0s 1ms/step - loss: 0.0514 - accuracy: 0.9790\n",
      "Epoch 90/100\n",
      "55/55 [==============================] - 0s 1ms/step - loss: 0.0469 - accuracy: 0.9835\n",
      "Epoch 91/100\n",
      "55/55 [==============================] - 0s 1ms/step - loss: 0.0453 - accuracy: 0.9847\n",
      "Epoch 92/100\n",
      "55/55 [==============================] - 0s 1ms/step - loss: 0.0509 - accuracy: 0.9795\n",
      "Epoch 93/100\n",
      "55/55 [==============================] - 0s 1ms/step - loss: 0.0490 - accuracy: 0.9807\n",
      "Epoch 94/100\n",
      "55/55 [==============================] - 0s 1ms/step - loss: 0.0449 - accuracy: 0.9841\n",
      "Epoch 95/100\n",
      "55/55 [==============================] - 0s 1ms/step - loss: 0.0472 - accuracy: 0.9824\n",
      "Epoch 96/100\n",
      "55/55 [==============================] - 0s 1ms/step - loss: 0.0417 - accuracy: 0.9841\n",
      "Epoch 97/100\n",
      "55/55 [==============================] - 0s 1ms/step - loss: 0.0412 - accuracy: 0.9864\n",
      "Epoch 98/100\n",
      "55/55 [==============================] - 0s 1ms/step - loss: 0.0432 - accuracy: 0.9852\n",
      "Epoch 99/100\n",
      "55/55 [==============================] - 0s 1ms/step - loss: 0.0433 - accuracy: 0.9847\n",
      "Epoch 100/100\n",
      "55/55 [==============================] - 0s 1ms/step - loss: 0.0407 - accuracy: 0.9875\n"
     ]
    },
    {
     "data": {
      "text/plain": [
       "<keras.callbacks.History at 0x1d960c71f10>"
      ]
     },
     "execution_count": 31,
     "metadata": {},
     "output_type": "execute_result"
    }
   ],
   "source": [
    "ann.fit(x_train, y_train, batch_size =32, epochs = 100)"
   ]
  },
  {
   "cell_type": "code",
   "execution_count": 32,
   "metadata": {
    "colab": {
     "base_uri": "https://localhost:8080/"
    },
    "id": "baF16tM6cMEx",
    "outputId": "7c91e508-5d05-4f33-ddea-cbec77d9182f"
   },
   "outputs": [],
   "source": [
    "prediction = ann.predict(sc.transform([[80, 46, 21, 24, 5.6, 72]]))"
   ]
  },
  {
   "cell_type": "code",
   "execution_count": null,
   "metadata": {},
   "outputs": [],
   "source": []
  },
  {
   "cell_type": "code",
   "execution_count": null,
   "metadata": {},
   "outputs": [],
   "source": []
  },
  {
   "cell_type": "code",
   "execution_count": null,
   "metadata": {},
   "outputs": [],
   "source": []
  },
  {
   "cell_type": "code",
   "execution_count": 33,
   "metadata": {
    "id": "T3LLYDVQuGwX"
   },
   "outputs": [],
   "source": [
    "#prediction = prediction.tolist()"
   ]
  },
  {
   "cell_type": "code",
   "execution_count": 34,
   "metadata": {
    "colab": {
     "base_uri": "https://localhost:8080/"
    },
    "id": "RHTNkNXUfTNC",
    "outputId": "4de7b878-3b95-42f6-b6d8-358dc885574f"
   },
   "outputs": [
    {
     "data": {
      "text/plain": [
       "array(['apple', 'banana', 'blackgram', 'chickpea', 'coconut', 'coffee',\n",
       "       'cotton', 'grapes', 'jute', 'kidneybeans', 'lentil', 'maize',\n",
       "       'mango', 'mothbeans', 'mungbean', 'muskmelon', 'orange', 'papaya',\n",
       "       'pigeonpeas', 'pomegranate', 'rice', 'watermelon'], dtype=object)"
      ]
     },
     "execution_count": 34,
     "metadata": {},
     "output_type": "execute_result"
    }
   ],
   "source": [
    "list_of_crops[0]"
   ]
  },
  {
   "cell_type": "code",
   "execution_count": 35,
   "metadata": {
    "id": "ReKKtvlifXp3"
   },
   "outputs": [],
   "source": [
    "def crop_map(prediction,lst_crops):\n",
    "  crop_pred_dic = {}\n",
    "  for i,j in zip(prediction[0],lst_crops[0]):\n",
    "    crop_pred_dic[j] = i\n",
    "\n",
    "  return crop_pred_dic\n"
   ]
  },
  {
   "cell_type": "code",
   "execution_count": 36,
   "metadata": {
    "id": "GcIIcDqBt3CK"
   },
   "outputs": [],
   "source": [
    "crop_pred_dic = crop_map(prediction,list_of_crops)"
   ]
  },
  {
   "cell_type": "code",
   "execution_count": 37,
   "metadata": {
    "colab": {
     "base_uri": "https://localhost:8080/"
    },
    "id": "gyRn64dGt32k",
    "outputId": "314a670c-4fea-4115-fe78-01e2e74812e1"
   },
   "outputs": [
    {
     "name": "stdout",
     "output_type": "stream",
     "text": [
      "maize\n"
     ]
    }
   ],
   "source": [
    "sorted_top_crop = sorted(crop_pred_dic.items(), key=lambda x:x[1])\n",
    "print(sorted_top_crop[-1][0])"
   ]
  },
  {
   "cell_type": "code",
   "execution_count": null,
   "metadata": {
    "id": "6T9hhV6I1IRX"
   },
   "outputs": [],
   "source": []
  },
  {
   "cell_type": "code",
   "execution_count": null,
   "metadata": {
    "id": "R8OHM9Sm1Ia5"
   },
   "outputs": [],
   "source": []
  },
  {
   "cell_type": "code",
   "execution_count": null,
   "metadata": {
    "id": "MNbFWJ3L1IdM"
   },
   "outputs": [],
   "source": []
  },
  {
   "cell_type": "code",
   "execution_count": null,
   "metadata": {
    "id": "QlGy2SKH1Ifo"
   },
   "outputs": [],
   "source": []
  },
  {
   "cell_type": "code",
   "execution_count": null,
   "metadata": {
    "id": "DNbMLCFo1Ih0"
   },
   "outputs": [],
   "source": []
  },
  {
   "cell_type": "code",
   "execution_count": null,
   "metadata": {
    "id": "oj9pf6X51Ij2"
   },
   "outputs": [],
   "source": []
  },
  {
   "cell_type": "code",
   "execution_count": null,
   "metadata": {
    "id": "2guF8k0m1ImQ"
   },
   "outputs": [],
   "source": []
  },
  {
   "cell_type": "code",
   "execution_count": null,
   "metadata": {
    "id": "SoydBtlx1IoY"
   },
   "outputs": [],
   "source": []
  },
  {
   "cell_type": "code",
   "execution_count": null,
   "metadata": {
    "id": "Y9r639BX1IrD"
   },
   "outputs": [],
   "source": []
  },
  {
   "cell_type": "markdown",
   "metadata": {
    "id": "QIuhVHRC_x6P"
   },
   "source": [
    "# KNN Model"
   ]
  },
  {
   "cell_type": "code",
   "execution_count": 38,
   "metadata": {
    "id": "ZSFHjD70_qs7"
   },
   "outputs": [],
   "source": [
    "from sklearn.model_selection import train_test_split\n",
    "x_train_k, x_test_k, y_train_k, y_test_k = train_test_split(x,y, test_size = 0.2, random_state = 0)"
   ]
  },
  {
   "cell_type": "code",
   "execution_count": 39,
   "metadata": {
    "id": "kkqv108XAE66"
   },
   "outputs": [],
   "source": [
    "x_train_k = sc.transform(x_train_k)\n",
    "x_test_k = sc.transform(x_test_k)"
   ]
  },
  {
   "cell_type": "code",
   "execution_count": 40,
   "metadata": {
    "colab": {
     "base_uri": "https://localhost:8080/"
    },
    "id": "ZDkNUEU1AI1y",
    "outputId": "fac4185f-f66c-4eb7-e286-ab76a858ab19"
   },
   "outputs": [
    {
     "data": {
      "text/plain": [
       "array([['apple'],\n",
       "       ['jute'],\n",
       "       ['jute'],\n",
       "       ...,\n",
       "       ['blackgram'],\n",
       "       ['lentil'],\n",
       "       ['orange']], dtype=object)"
      ]
     },
     "execution_count": 40,
     "metadata": {},
     "output_type": "execute_result"
    }
   ],
   "source": [
    "y_train_k"
   ]
  },
  {
   "cell_type": "code",
   "execution_count": 41,
   "metadata": {
    "colab": {
     "base_uri": "https://localhost:8080/"
    },
    "id": "fKD9qucS-WOV",
    "outputId": "6f412ec5-fed4-4d58-d7b3-25cbf3b9666a"
   },
   "outputs": [
    {
     "name": "stderr",
     "output_type": "stream",
     "text": [
      "C:\\Users\\Owner\\anaconda3\\lib\\site-packages\\sklearn\\utils\\validation.py:63: DataConversionWarning: A column-vector y was passed when a 1d array was expected. Please change the shape of y to (n_samples, ), for example using ravel().\n",
      "  return f(*args, **kwargs)\n"
     ]
    }
   ],
   "source": [
    "from sklearn.preprocessing import LabelEncoder\n",
    "\n",
    "le_encoder = LabelEncoder()\n",
    "y_train_k = le_encoder.fit_transform(y_train_k)\n",
    "y_test_k = encoder.transform(y_test_k)"
   ]
  },
  {
   "cell_type": "code",
   "execution_count": 42,
   "metadata": {
    "id": "Se590sefDEj4"
   },
   "outputs": [],
   "source": [
    "le_name_mapping = dict(zip(le_encoder.classes_, le_encoder.transform(le_encoder.classes_)))"
   ]
  },
  {
   "cell_type": "code",
   "execution_count": 43,
   "metadata": {
    "colab": {
     "base_uri": "https://localhost:8080/"
    },
    "id": "0D5UW3-0DQnR",
    "outputId": "6772d288-82a8-49d4-94ef-9aa064f0dfe2"
   },
   "outputs": [
    {
     "data": {
      "text/plain": [
       "{'apple': 0,\n",
       " 'banana': 1,\n",
       " 'blackgram': 2,\n",
       " 'chickpea': 3,\n",
       " 'coconut': 4,\n",
       " 'coffee': 5,\n",
       " 'cotton': 6,\n",
       " 'grapes': 7,\n",
       " 'jute': 8,\n",
       " 'kidneybeans': 9,\n",
       " 'lentil': 10,\n",
       " 'maize': 11,\n",
       " 'mango': 12,\n",
       " 'mothbeans': 13,\n",
       " 'mungbean': 14,\n",
       " 'muskmelon': 15,\n",
       " 'orange': 16,\n",
       " 'papaya': 17,\n",
       " 'pigeonpeas': 18,\n",
       " 'pomegranate': 19,\n",
       " 'rice': 20,\n",
       " 'watermelon': 21}"
      ]
     },
     "execution_count": 43,
     "metadata": {},
     "output_type": "execute_result"
    }
   ],
   "source": [
    "le_name_mapping"
   ]
  },
  {
   "cell_type": "code",
   "execution_count": 44,
   "metadata": {
    "id": "wJBrOWCy0Oaq"
   },
   "outputs": [],
   "source": [
    "from sklearn.neighbors import KNeighborsClassifier\n",
    "clf = KNeighborsClassifier(n_neighbors = 100, weights = 'uniform', algorithm = 'auto', metric='minkowski', p =2)"
   ]
  },
  {
   "cell_type": "code",
   "execution_count": 45,
   "metadata": {
    "colab": {
     "base_uri": "https://localhost:8080/"
    },
    "id": "K4uCk0xq2NM1",
    "outputId": "4c807b31-f5a7-4330-8030-8d944ec55c64"
   },
   "outputs": [
    {
     "data": {
      "text/plain": [
       "KNeighborsClassifier(n_neighbors=100)"
      ]
     },
     "execution_count": 45,
     "metadata": {},
     "output_type": "execute_result"
    }
   ],
   "source": [
    "clf.fit(x_train_k, y_train_k)"
   ]
  },
  {
   "cell_type": "code",
   "execution_count": 46,
   "metadata": {
    "colab": {
     "base_uri": "https://localhost:8080/"
    },
    "id": "VTVJHIlJ2Rod",
    "outputId": "b452c38c-278e-41ff-f518-6e42b321d54f"
   },
   "outputs": [
    {
     "name": "stdout",
     "output_type": "stream",
     "text": [
      "[11]\n"
     ]
    }
   ],
   "source": [
    "print(clf.predict(sc.transform([[80, 46, 21, 24, 5.6, 72]])))"
   ]
  },
  {
   "cell_type": "code",
   "execution_count": 47,
   "metadata": {
    "id": "1wpkSYnULEcE"
   },
   "outputs": [],
   "source": [
    "neighbors = clf.kneighbors(sc.transform([[80, 46, 21, 24, 5.6, 72]]), return_distance=False)"
   ]
  },
  {
   "cell_type": "code",
   "execution_count": 48,
   "metadata": {
    "colab": {
     "base_uri": "https://localhost:8080/"
    },
    "id": "ZBOLKcrdLQuG",
    "outputId": "dc83cb5e-1ac6-4801-a1c2-91bdf90cf05c"
   },
   "outputs": [
    {
     "data": {
      "text/plain": [
       "array([[ 999, 1470,  802,  456, 1180,  694, 1541,   12,  594, 1399, 1239,\n",
       "         561, 1014, 1336,  431,   69,  343,  939, 1061,  329,  956, 1484,\n",
       "         344, 1483, 1677, 1549,  157,   10,  869,  440,  997, 1073,  603,\n",
       "        1110, 1637, 1282, 1697,  227,  221,  163, 1060, 1726, 1527, 1186,\n",
       "         800, 1548,  378,  173,   26,  927, 1132, 1512, 1622,  721, 1553,\n",
       "         863,   74, 1630,  544,  140, 1611,  206,  966,  191,  970,  290,\n",
       "        1515,  629,  381,  386,  507, 1140,  302, 1204, 1359,  649, 1366,\n",
       "         134,  374, 1718, 1236, 1273, 1545, 1168, 1286,  126,   83,  503,\n",
       "         954,  516, 1431, 1030, 1731,  405, 1690,  165,  274,  710, 1466,\n",
       "         521]], dtype=int64)"
      ]
     },
     "execution_count": 48,
     "metadata": {},
     "output_type": "execute_result"
    }
   ],
   "source": [
    "neighbors"
   ]
  },
  {
   "cell_type": "code",
   "execution_count": 49,
   "metadata": {
    "id": "lJi90Ua9LQhY"
   },
   "outputs": [],
   "source": [
    "unique_recommended_values = np.unique(y_train_k[neighbors][0])"
   ]
  },
  {
   "cell_type": "code",
   "execution_count": 50,
   "metadata": {
    "colab": {
     "base_uri": "https://localhost:8080/"
    },
    "id": "5eFfEOr01tC-",
    "outputId": "2baf4065-1cf7-4a62-f9e4-17436734e4e3"
   },
   "outputs": [
    {
     "data": {
      "text/plain": [
       "array([ 1,  5,  6,  9, 11, 17, 21])"
      ]
     },
     "execution_count": 50,
     "metadata": {},
     "output_type": "execute_result"
    }
   ],
   "source": [
    "unique_recommended_values"
   ]
  },
  {
   "cell_type": "code",
   "execution_count": 51,
   "metadata": {
    "id": "LHwSx38FLQVG"
   },
   "outputs": [],
   "source": [
    "key_list = list(le_name_mapping.keys())\n",
    "val_list = list(le_name_mapping.values())\n",
    "recommended_crop_lst = []\n",
    " \n",
    "for each in unique_recommended_values:  \n",
    "  \n",
    "  position = val_list.index(each)\n",
    "  recommended_crop_lst.append(key_list[position])"
   ]
  },
  {
   "cell_type": "code",
   "execution_count": 52,
   "metadata": {
    "colab": {
     "base_uri": "https://localhost:8080/"
    },
    "id": "AC04-eBiLQB3",
    "outputId": "aeda9feb-22c5-423a-b2fc-7eb0657c1f74"
   },
   "outputs": [
    {
     "data": {
      "text/plain": [
       "['banana', 'coffee', 'cotton', 'kidneybeans', 'maize', 'papaya', 'watermelon']"
      ]
     },
     "execution_count": 52,
     "metadata": {},
     "output_type": "execute_result"
    }
   ],
   "source": [
    "recommended_crop_lst"
   ]
  },
  {
   "cell_type": "code",
   "execution_count": 53,
   "metadata": {
    "id": "2uZZ45Sx7BwW"
   },
   "outputs": [],
   "source": [
    "# test_point = sc.transform([[86, 56, 42, 26.99, 6.2, 254]])"
   ]
  },
  {
   "cell_type": "code",
   "execution_count": 54,
   "metadata": {
    "id": "L27PmrzT7MmC"
   },
   "outputs": [],
   "source": [
    "# neighbors = clf.kneighbors(test_point, return_distance=False)"
   ]
  },
  {
   "cell_type": "code",
   "execution_count": 55,
   "metadata": {
    "colab": {
     "base_uri": "https://localhost:8080/"
    },
    "id": "RJqJBq4BEqb8",
    "outputId": "78a21184-04dd-441b-b470-a9e1973b92e9"
   },
   "outputs": [],
   "source": [
    "# neighbors"
   ]
  },
  {
   "cell_type": "code",
   "execution_count": 56,
   "metadata": {
    "id": "WiT8Y_zm7Pwi"
   },
   "outputs": [],
   "source": [
    "# neighbor_classes = y[neighbors[0]]"
   ]
  },
  {
   "cell_type": "code",
   "execution_count": null,
   "metadata": {
    "id": "odpBa3dJ4cn8"
   },
   "outputs": [],
   "source": []
  },
  {
   "cell_type": "markdown",
   "metadata": {
    "id": "nUMvLVv84dND"
   },
   "source": [
    "# Save the Model"
   ]
  },
  {
   "cell_type": "code",
   "execution_count": 58,
   "metadata": {
    "id": "MRMAZw9zFKFK"
   },
   "outputs": [],
   "source": [
    "# save the model\n",
    "\n",
    "ann.save(r\"C:\\Users\\Owner\\Tri Nit\\model files\\ann_model.h5\")\n",
    "joblib.dump(sc, r\"C:\\Users\\Owner\\Tri Nit\\model files\\scaler.save\") \n",
    "\n",
    "\n",
    "filename = r\"C:\\Users\\Owner\\Tri Nit\\model files\\clf_model.sav\"\n",
    "pickle.dump(KNeighborsClassifier, open(filename, 'wb'))"
   ]
  },
  {
   "cell_type": "code",
   "execution_count": 60,
   "metadata": {},
   "outputs": [
    {
     "data": {
      "text/plain": [
       "['C:\\\\Users\\\\Owner\\\\Tri Nit\\\\model files\\\\y_train_k.joblib']"
      ]
     },
     "execution_count": 60,
     "metadata": {},
     "output_type": "execute_result"
    }
   ],
   "source": [
    "joblib.dump(y_train_k,r\"C:\\Users\\Owner\\Tri Nit\\model files\\y_train_k.joblib\")"
   ]
  },
  {
   "cell_type": "code",
   "execution_count": 61,
   "metadata": {},
   "outputs": [
    {
     "data": {
      "text/plain": [
       "['C:\\\\Users\\\\Owner\\\\Tri Nit\\\\model files\\\\x_train_k.joblib']"
      ]
     },
     "execution_count": 61,
     "metadata": {},
     "output_type": "execute_result"
    }
   ],
   "source": [
    "joblib.dump(x_train_k,r\"C:\\Users\\Owner\\Tri Nit\\model files\\x_train_k.joblib\")"
   ]
  },
  {
   "cell_type": "code",
   "execution_count": null,
   "metadata": {},
   "outputs": [],
   "source": []
  }
 ],
 "metadata": {
  "accelerator": "GPU",
  "colab": {
   "provenance": []
  },
  "gpuClass": "standard",
  "kernelspec": {
   "display_name": "Python 3",
   "language": "python",
   "name": "python3"
  },
  "language_info": {
   "codemirror_mode": {
    "name": "ipython",
    "version": 3
   },
   "file_extension": ".py",
   "mimetype": "text/x-python",
   "name": "python",
   "nbconvert_exporter": "python",
   "pygments_lexer": "ipython3",
   "version": "3.8.8"
  }
 },
 "nbformat": 4,
 "nbformat_minor": 1
}
